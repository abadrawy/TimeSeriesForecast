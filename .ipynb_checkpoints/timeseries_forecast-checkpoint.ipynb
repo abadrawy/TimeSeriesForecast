{
 "cells": [
  {
   "cell_type": "code",
   "execution_count": 5,
   "metadata": {
    "collapsed": true
   },
   "outputs": [],
   "source": [
    "import numpy as np\n",
    "import pandas as pd\n",
    "from sklearn.neural_network import MLPRegressor\n",
    "from sklearn.metrics import mean_squared_error"
   ]
  },
  {
   "cell_type": "code",
   "execution_count": 6,
   "metadata": {
    "collapsed": true
   },
   "outputs": [],
   "source": [
    "def split(X,Y,factor):\n",
    "    X_train=X[:factor]\n",
    "    Y_train=Y[:factor]\n",
    "    X_test=X[factor:]\n",
    "    Y_test=Y[factor:]\n",
    "    return X_train,Y_train,X_test,Y_test"
   ]
  },
  {
   "cell_type": "code",
   "execution_count": 7,
   "metadata": {
    "collapsed": true
   },
   "outputs": [],
   "source": [
    "def prep_data_4_1_time():\n",
    "    file = pd.read_csv('data/ngp.csv')\n",
    "    df= pd.DataFrame(list(reversed(file['price'])))\n",
    "    input_t=4\n",
    "    output_t=1\n",
    "    cols=list()\n",
    "    names=list()\n",
    "    for i in range(input_t,0, -1):\n",
    "        cols.append(df.shift(i))\n",
    "        names.append(i)\n",
    "    for i in range(0,output_t):\n",
    "        cols.append(df.shift(-i))\n",
    "        names.append(i+input_t+1)\n",
    "    \n",
    "    n_df=pd.concat(cols,axis=1)\n",
    "    n_df.columns=names\n",
    "    n_df.dropna(inplace=True)\n",
    "    X=n_df[[4,3,2,1]]\n",
    "    Y=n_df[5]\n",
    "    ones=np.ones(shape=(X.shape[0],1))\n",
    "    X=X/X.max()\n",
    "    X=np.append(X, ones, axis=1)\n",
    "    Y=np.asarray(Y)\n",
    "    Y=Y/Y.max()\n",
    "\n",
    "    factor=int(.80*X.shape[0])\n",
    "\n",
    "    return split(X,Y,factor)"
   ]
  },
  {
   "cell_type": "code",
   "execution_count": 8,
   "metadata": {
    "collapsed": true
   },
   "outputs": [],
   "source": [
    "def prep_data_8_2_time():\n",
    "    file = pd.read_csv('data/timesereis_8_2.csv')\n",
    "    X=file[['0','1','2','3','4','5','6','7']]\n",
    "    X=X/X.max()\n",
    "    Y=file[['8','9']]\n",
    "    Y=Y/Y.max()\n",
    "\n",
    "    ones=np.ones(shape=(X.shape[0],1))\n",
    "    X=np.append(X, ones, axis=1)\n",
    "    Y=np.asarray(Y)\n",
    "    factor=int(.80*X.shape[0])\n",
    "\n",
    "    return split(X,Y,factor)"
   ]
  },
  {
   "cell_type": "code",
   "execution_count": 9,
   "metadata": {
    "collapsed": true
   },
   "outputs": [],
   "source": [
    "clf=MLPRegressor(hidden_layer_sizes=(900,7), activation='relu',\n",
    "             solver='adam',alpha=0.001, \n",
    "             batch_size=13, learning_rate='constant',learning_rate_init=0.001, \n",
    "             max_iter=1000, shuffle=True,random_state=5, tol=0.001, \n",
    "             early_stopping=True,\n",
    "             verbose=True,\n",
    "             validation_fraction=0.2\n",
    "             )"
   ]
  },
  {
   "cell_type": "code",
   "execution_count": 10,
   "metadata": {
    "collapsed": false
   },
   "outputs": [
    {
     "name": "stdout",
     "output_type": "stream",
     "text": [
      "Iteration 1, loss = 0.00612746\n",
      "Validation score: 0.746442\n",
      "Iteration 2, loss = 0.00330638\n",
      "Validation score: 0.787206\n",
      "Iteration 3, loss = 0.00290018\n",
      "Validation score: 0.779019\n",
      "Iteration 4, loss = 0.00267013\n",
      "Validation score: 0.819200\n",
      "Iteration 5, loss = 0.00229647\n",
      "Validation score: 0.844220\n",
      "Iteration 6, loss = 0.00204322\n",
      "Validation score: 0.858914\n",
      "Iteration 7, loss = 0.00191468\n",
      "Validation score: 0.887999\n",
      "Iteration 8, loss = 0.00177198\n",
      "Validation score: 0.883503\n",
      "Iteration 9, loss = 0.00159402\n",
      "Validation score: 0.906087\n",
      "Iteration 10, loss = 0.00145295\n",
      "Validation score: 0.911209\n",
      "Iteration 11, loss = 0.00142983\n",
      "Validation score: 0.917060\n",
      "Iteration 12, loss = 0.00132467\n",
      "Validation score: 0.913181\n",
      "Iteration 13, loss = 0.00125178\n",
      "Validation score: 0.894917\n",
      "Iteration 14, loss = 0.00117371\n",
      "Validation score: 0.925423\n",
      "Iteration 15, loss = 0.00117044\n",
      "Validation score: 0.932130\n",
      "Iteration 16, loss = 0.00113775\n",
      "Validation score: 0.921798\n",
      "Iteration 17, loss = 0.00106412\n",
      "Validation score: 0.923834\n",
      "Iteration 18, loss = 0.00113923\n",
      "Validation score: 0.938248\n",
      "Iteration 19, loss = 0.00106557\n",
      "Validation score: 0.934124\n",
      "Iteration 20, loss = 0.00113172\n",
      "Validation score: 0.937234\n",
      "Iteration 21, loss = 0.00099493\n",
      "Validation score: 0.941435\n",
      "Iteration 22, loss = 0.00097524\n",
      "Validation score: 0.942817\n",
      "Iteration 23, loss = 0.00088102\n",
      "Validation score: 0.937176\n",
      "Iteration 24, loss = 0.00087502\n",
      "Validation score: 0.940920\n",
      "Iteration 25, loss = 0.00084173\n",
      "Validation score: 0.944978\n",
      "Iteration 26, loss = 0.00083856\n",
      "Validation score: 0.946293\n",
      "Iteration 27, loss = 0.00084664\n",
      "Validation score: 0.944781\n",
      "Iteration 28, loss = 0.00085903\n",
      "Validation score: 0.945413\n",
      "Iteration 29, loss = 0.00079952\n",
      "Validation score: 0.945537\n",
      "Validation score did not improve more than tol=0.001000 for two consecutive epochs. Stopping.\n",
      "score of first model 0.931027060505\n"
     ]
    }
   ],
   "source": [
    "X_train,Y_train,X_test,Y_test=prep_data_4_1_time()\n",
    "#train the model\n",
    "clf.fit(X_train,Y_train)\n",
    "#score of the model\n",
    "print(\"score of first model\",clf.score(X_test,Y_test));"
   ]
  },
  {
   "cell_type": "code",
   "execution_count": 11,
   "metadata": {
    "collapsed": false
   },
   "outputs": [
    {
     "name": "stdout",
     "output_type": "stream",
     "text": [
      "error of first model 0.00026382080347\n"
     ]
    }
   ],
   "source": [
    "#test the model\n",
    "pred = clf.predict(X_test)\n",
    "print(\"error of first model\",mean_squared_error(Y_test,pred))"
   ]
  },
  {
   "cell_type": "code",
   "execution_count": 12,
   "metadata": {
    "collapsed": false
   },
   "outputs": [
    {
     "name": "stdout",
     "output_type": "stream",
     "text": [
      "Iteration 1, loss = 0.03578530\n",
      "Validation score: 0.826540\n",
      "Iteration 2, loss = 0.00279544\n",
      "Validation score: 0.839895\n",
      "Iteration 3, loss = 0.00258918\n",
      "Validation score: 0.859402\n",
      "Iteration 4, loss = 0.00247041\n",
      "Validation score: 0.870913\n",
      "Iteration 5, loss = 0.00238084\n",
      "Validation score: 0.869264\n",
      "Iteration 6, loss = 0.00226409\n",
      "Validation score: 0.885794\n",
      "Iteration 7, loss = 0.00222876\n",
      "Validation score: 0.881586\n",
      "Iteration 8, loss = 0.00211423\n",
      "Validation score: 0.875985\n",
      "Iteration 9, loss = 0.00203630\n",
      "Validation score: 0.895900\n",
      "Iteration 10, loss = 0.00192974\n",
      "Validation score: 0.906888\n",
      "Iteration 11, loss = 0.00188361\n",
      "Validation score: 0.906779\n",
      "Iteration 12, loss = 0.00186655\n",
      "Validation score: 0.907228\n",
      "Iteration 13, loss = 0.00182464\n",
      "Validation score: 0.907011\n",
      "Validation score did not improve more than tol=0.001000 for two consecutive epochs. Stopping.\n",
      "score of second model 0.837356492757\n"
     ]
    }
   ],
   "source": [
    "X_train,Y_train,X_test,Y_test=prep_data_8_2_time()\n",
    "#train the model\n",
    "clf.fit(X_train,Y_train)\n",
    "#score of the model\n",
    "print(\"score of second model\",clf.score(X_test,Y_test));"
   ]
  },
  {
   "cell_type": "code",
   "execution_count": 13,
   "metadata": {
    "collapsed": false
   },
   "outputs": [
    {
     "name": "stdout",
     "output_type": "stream",
     "text": [
      "error of second model 0.00062482781236\n"
     ]
    }
   ],
   "source": [
    "#test the model\n",
    "pred = clf.predict(X_test)\n",
    "print(\"error of second model\",mean_squared_error(Y_test,pred))"
   ]
  }
 ],
 "metadata": {
  "kernelspec": {
   "display_name": "Python 3",
   "language": "python",
   "name": "python3"
  },
  "language_info": {
   "codemirror_mode": {
    "name": "ipython",
    "version": 3
   },
   "file_extension": ".py",
   "mimetype": "text/x-python",
   "name": "python",
   "nbconvert_exporter": "python",
   "pygments_lexer": "ipython3",
   "version": "3.6.0"
  }
 },
 "nbformat": 4,
 "nbformat_minor": 2
}
